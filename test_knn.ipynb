{
 "cells": [
  {
   "cell_type": "code",
   "execution_count": 1,
   "metadata": {},
   "outputs": [],
   "source": [
    "from knn.KNN import KNN\n",
    "from sklearn.datasets import load_iris,load_breast_cancer\n",
    "from sklearn.model_selection import train_test_split\n",
    "from common_utils import *"
   ]
  },
  {
   "cell_type": "code",
   "execution_count": 2,
   "metadata": {},
   "outputs": [],
   "source": [
    "test_data = load_breast_cancer()"
   ]
  },
  {
   "cell_type": "code",
   "execution_count": 3,
   "metadata": {},
   "outputs": [],
   "source": [
    "X_train, X_test, y_train, y_test = train_test_split(test_data['data'], test_data['target'], test_size=0.2, random_state=234)"
   ]
  },
  {
   "cell_type": "code",
   "execution_count": 4,
   "metadata": {},
   "outputs": [
    {
     "name": "stdout",
     "output_type": "stream",
     "text": [
      "Number of Neighbours 1 --> Accuracy:0.9210526315789473\n",
      "Number of Neighbours 2 --> Accuracy:0.9210526315789473\n",
      "Number of Neighbours 3 --> Accuracy:0.9210526315789473\n",
      "Number of Neighbours 4 --> Accuracy:0.9122807017543859\n",
      "Number of Neighbours 5 --> Accuracy:0.9035087719298246\n",
      "Number of Neighbours 6 --> Accuracy:0.9122807017543859\n",
      "Number of Neighbours 7 --> Accuracy:0.9035087719298246\n",
      "Number of Neighbours 8 --> Accuracy:0.8947368421052632\n",
      "Number of Neighbours 9 --> Accuracy:0.9035087719298246\n",
      "Number of Neighbours 10 --> Accuracy:0.9035087719298246\n",
      "Number of Neighbours 11 --> Accuracy:0.9122807017543859\n",
      "Number of Neighbours 12 --> Accuracy:0.9035087719298246\n",
      "Number of Neighbours 13 --> Accuracy:0.9122807017543859\n",
      "Number of Neighbours 14 --> Accuracy:0.9122807017543859\n",
      "Number of Neighbours 15 --> Accuracy:0.9122807017543859\n",
      "Number of Neighbours 16 --> Accuracy:0.9122807017543859\n",
      "Number of Neighbours 17 --> Accuracy:0.9035087719298246\n",
      "Number of Neighbours 18 --> Accuracy:0.9035087719298246\n",
      "Number of Neighbours 19 --> Accuracy:0.9035087719298246\n",
      "Number of Neighbours 20 --> Accuracy:0.9035087719298246\n"
     ]
    }
   ],
   "source": [
    "for n_neighbors in range(1,21):\n",
    "    knn_model = KNN(k_neighbors=n_neighbors)\n",
    "    knn_model.fit(X_train,y_train)\n",
    "    y_preds = knn_model.predict(X_test)\n",
    "    accuracy = np.sum(y_preds==y_test)/y_preds.size\n",
    "    print(f\"Number of Neighbours {n_neighbors} --> Accuracy:{accuracy}\")\n",
    "\n"
   ]
  },
  {
   "cell_type": "code",
   "execution_count": null,
   "metadata": {},
   "outputs": [],
   "source": []
  },
  {
   "cell_type": "code",
   "execution_count": null,
   "metadata": {},
   "outputs": [],
   "source": []
  },
  {
   "cell_type": "code",
   "execution_count": null,
   "metadata": {},
   "outputs": [],
   "source": []
  },
  {
   "cell_type": "code",
   "execution_count": null,
   "metadata": {},
   "outputs": [],
   "source": []
  },
  {
   "cell_type": "code",
   "execution_count": null,
   "metadata": {},
   "outputs": [],
   "source": []
  },
  {
   "cell_type": "code",
   "execution_count": null,
   "metadata": {},
   "outputs": [],
   "source": []
  }
 ],
 "metadata": {
  "kernelspec": {
   "display_name": "base",
   "language": "python",
   "name": "python3"
  },
  "language_info": {
   "codemirror_mode": {
    "name": "ipython",
    "version": 3
   },
   "file_extension": ".py",
   "mimetype": "text/x-python",
   "name": "python",
   "nbconvert_exporter": "python",
   "pygments_lexer": "ipython3",
   "version": "3.11.5"
  }
 },
 "nbformat": 4,
 "nbformat_minor": 2
}
